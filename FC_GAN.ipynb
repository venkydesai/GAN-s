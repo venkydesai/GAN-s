{
  "nbformat": 4,
  "nbformat_minor": 0,
  "metadata": {
    "colab": {
      "provenance": []
    },
    "kernelspec": {
      "name": "python3",
      "display_name": "Python 3"
    },
    "language_info": {
      "name": "python"
    }
  },
  "cells": [
    {
      "cell_type": "code",
      "execution_count": 1,
      "metadata": {
        "colab": {
          "base_uri": "https://localhost:8080/"
        },
        "id": "1LU71DKwij_F",
        "outputId": "91b0456e-c193-45fd-d65f-7113d1360bc8"
      },
      "outputs": [
        {
          "output_type": "stream",
          "name": "stdout",
          "text": [
            "Downloading http://yann.lecun.com/exdb/mnist/train-images-idx3-ubyte.gz\n",
            "Downloading http://yann.lecun.com/exdb/mnist/train-images-idx3-ubyte.gz to dataset/MNIST/raw/train-images-idx3-ubyte.gz\n"
          ]
        },
        {
          "output_type": "stream",
          "name": "stderr",
          "text": [
            "100%|██████████| 9912422/9912422 [00:00<00:00, 79382045.44it/s]\n"
          ]
        },
        {
          "output_type": "stream",
          "name": "stdout",
          "text": [
            "Extracting dataset/MNIST/raw/train-images-idx3-ubyte.gz to dataset/MNIST/raw\n",
            "\n",
            "Downloading http://yann.lecun.com/exdb/mnist/train-labels-idx1-ubyte.gz\n",
            "Downloading http://yann.lecun.com/exdb/mnist/train-labels-idx1-ubyte.gz to dataset/MNIST/raw/train-labels-idx1-ubyte.gz\n"
          ]
        },
        {
          "output_type": "stream",
          "name": "stderr",
          "text": [
            "100%|██████████| 28881/28881 [00:00<00:00, 34541116.00it/s]"
          ]
        },
        {
          "output_type": "stream",
          "name": "stdout",
          "text": [
            "Extracting dataset/MNIST/raw/train-labels-idx1-ubyte.gz to dataset/MNIST/raw\n",
            "\n",
            "Downloading http://yann.lecun.com/exdb/mnist/t10k-images-idx3-ubyte.gz\n",
            "Downloading http://yann.lecun.com/exdb/mnist/t10k-images-idx3-ubyte.gz to dataset/MNIST/raw/t10k-images-idx3-ubyte.gz\n"
          ]
        },
        {
          "output_type": "stream",
          "name": "stderr",
          "text": [
            "\n",
            "100%|██████████| 1648877/1648877 [00:00<00:00, 20248488.21it/s]\n"
          ]
        },
        {
          "output_type": "stream",
          "name": "stdout",
          "text": [
            "Extracting dataset/MNIST/raw/t10k-images-idx3-ubyte.gz to dataset/MNIST/raw\n",
            "\n",
            "Downloading http://yann.lecun.com/exdb/mnist/t10k-labels-idx1-ubyte.gz\n",
            "Downloading http://yann.lecun.com/exdb/mnist/t10k-labels-idx1-ubyte.gz to dataset/MNIST/raw/t10k-labels-idx1-ubyte.gz\n"
          ]
        },
        {
          "output_type": "stream",
          "name": "stderr",
          "text": [
            "100%|██████████| 4542/4542 [00:00<00:00, 14421293.54it/s]"
          ]
        },
        {
          "output_type": "stream",
          "name": "stdout",
          "text": [
            "Extracting dataset/MNIST/raw/t10k-labels-idx1-ubyte.gz to dataset/MNIST/raw\n",
            "\n"
          ]
        },
        {
          "output_type": "stream",
          "name": "stderr",
          "text": [
            "\n"
          ]
        },
        {
          "output_type": "stream",
          "name": "stdout",
          "text": [
            "Epoch [0/50] Batch 0/1875                       Loss D: 0.7003, loss G: 0.7027\n",
            "Epoch [1/50] Batch 0/1875                       Loss D: 0.3607, loss G: 1.2977\n",
            "Epoch [2/50] Batch 0/1875                       Loss D: 0.6413, loss G: 1.0066\n",
            "Epoch [3/50] Batch 0/1875                       Loss D: 0.4687, loss G: 1.5394\n",
            "Epoch [4/50] Batch 0/1875                       Loss D: 0.6205, loss G: 1.0158\n",
            "Epoch [5/50] Batch 0/1875                       Loss D: 0.3371, loss G: 1.9665\n",
            "Epoch [6/50] Batch 0/1875                       Loss D: 0.5964, loss G: 1.8667\n",
            "Epoch [7/50] Batch 0/1875                       Loss D: 0.6934, loss G: 1.0311\n",
            "Epoch [8/50] Batch 0/1875                       Loss D: 0.3324, loss G: 1.9946\n",
            "Epoch [9/50] Batch 0/1875                       Loss D: 0.3240, loss G: 1.7914\n",
            "Epoch [10/50] Batch 0/1875                       Loss D: 0.6375, loss G: 1.4444\n",
            "Epoch [11/50] Batch 0/1875                       Loss D: 0.6877, loss G: 1.4737\n",
            "Epoch [12/50] Batch 0/1875                       Loss D: 0.3366, loss G: 1.7985\n",
            "Epoch [13/50] Batch 0/1875                       Loss D: 0.4658, loss G: 1.4440\n",
            "Epoch [14/50] Batch 0/1875                       Loss D: 0.4024, loss G: 1.6556\n",
            "Epoch [15/50] Batch 0/1875                       Loss D: 0.3954, loss G: 1.8062\n",
            "Epoch [16/50] Batch 0/1875                       Loss D: 0.4887, loss G: 1.6078\n",
            "Epoch [17/50] Batch 0/1875                       Loss D: 0.5830, loss G: 1.5064\n",
            "Epoch [18/50] Batch 0/1875                       Loss D: 0.4177, loss G: 2.0735\n",
            "Epoch [19/50] Batch 0/1875                       Loss D: 0.4500, loss G: 1.7888\n",
            "Epoch [20/50] Batch 0/1875                       Loss D: 0.6075, loss G: 1.1810\n",
            "Epoch [21/50] Batch 0/1875                       Loss D: 0.6181, loss G: 1.0281\n",
            "Epoch [22/50] Batch 0/1875                       Loss D: 0.4631, loss G: 1.3235\n",
            "Epoch [23/50] Batch 0/1875                       Loss D: 0.6224, loss G: 1.2583\n",
            "Epoch [24/50] Batch 0/1875                       Loss D: 0.6818, loss G: 0.9709\n",
            "Epoch [25/50] Batch 0/1875                       Loss D: 0.5731, loss G: 1.8748\n",
            "Epoch [26/50] Batch 0/1875                       Loss D: 0.6991, loss G: 1.3411\n",
            "Epoch [27/50] Batch 0/1875                       Loss D: 0.4373, loss G: 1.5648\n",
            "Epoch [28/50] Batch 0/1875                       Loss D: 0.8167, loss G: 1.4584\n",
            "Epoch [29/50] Batch 0/1875                       Loss D: 0.7188, loss G: 1.1210\n",
            "Epoch [30/50] Batch 0/1875                       Loss D: 0.8585, loss G: 0.9252\n",
            "Epoch [31/50] Batch 0/1875                       Loss D: 0.5776, loss G: 1.5065\n",
            "Epoch [32/50] Batch 0/1875                       Loss D: 0.5321, loss G: 1.4190\n",
            "Epoch [33/50] Batch 0/1875                       Loss D: 0.6999, loss G: 1.0894\n",
            "Epoch [34/50] Batch 0/1875                       Loss D: 0.3676, loss G: 1.3881\n",
            "Epoch [35/50] Batch 0/1875                       Loss D: 0.5369, loss G: 1.5970\n",
            "Epoch [36/50] Batch 0/1875                       Loss D: 0.5488, loss G: 1.2568\n",
            "Epoch [37/50] Batch 0/1875                       Loss D: 0.5869, loss G: 1.0922\n",
            "Epoch [38/50] Batch 0/1875                       Loss D: 0.5461, loss G: 1.2588\n",
            "Epoch [39/50] Batch 0/1875                       Loss D: 0.5657, loss G: 1.1162\n",
            "Epoch [40/50] Batch 0/1875                       Loss D: 0.6001, loss G: 1.1260\n",
            "Epoch [41/50] Batch 0/1875                       Loss D: 0.5710, loss G: 1.4396\n",
            "Epoch [42/50] Batch 0/1875                       Loss D: 0.5971, loss G: 1.4387\n",
            "Epoch [43/50] Batch 0/1875                       Loss D: 0.6623, loss G: 0.7917\n",
            "Epoch [44/50] Batch 0/1875                       Loss D: 0.7024, loss G: 1.1939\n",
            "Epoch [45/50] Batch 0/1875                       Loss D: 0.5477, loss G: 1.6643\n",
            "Epoch [46/50] Batch 0/1875                       Loss D: 0.5323, loss G: 1.4346\n",
            "Epoch [47/50] Batch 0/1875                       Loss D: 0.5711, loss G: 1.1105\n",
            "Epoch [48/50] Batch 0/1875                       Loss D: 0.5460, loss G: 1.2524\n",
            "Epoch [49/50] Batch 0/1875                       Loss D: 0.5951, loss G: 1.2437\n"
          ]
        }
      ],
      "source": [
        "import torch\n",
        "import torch.nn as nn\n",
        "import torch.optim as optim\n",
        "import torchvision\n",
        "import torchvision.datasets as datasets\n",
        "from torch.utils.data import DataLoader\n",
        "import torchvision.transforms as transforms\n",
        "from torch.utils.tensorboard import SummaryWriter  # to print to tensorboard\n",
        "\n",
        "\n",
        "class Discriminator(nn.Module):\n",
        "    def __init__(self, in_features):\n",
        "        super().__init__()\n",
        "        self.disc = nn.Sequential(\n",
        "            nn.Linear(in_features, 128),\n",
        "            nn.LeakyReLU(0.01),\n",
        "            nn.Linear(128, 1),\n",
        "            nn.Sigmoid(),\n",
        "        )\n",
        "\n",
        "    def forward(self, x):\n",
        "        return self.disc(x)\n",
        "\n",
        "\n",
        "class Generator(nn.Module):\n",
        "    def __init__(self, z_dim, img_dim):\n",
        "        super().__init__()\n",
        "        self.gen = nn.Sequential(\n",
        "            nn.Linear(z_dim, 256),\n",
        "            nn.LeakyReLU(0.01),\n",
        "            nn.Linear(256, img_dim),\n",
        "            nn.Tanh(),  # normalize inputs to [-1, 1] so make outputs [-1, 1]\n",
        "        )\n",
        "\n",
        "    def forward(self, x):\n",
        "        return self.gen(x)\n",
        "\n",
        "\n",
        "# Hyperparameters etc.\n",
        "device = \"cuda\" if torch.cuda.is_available() else \"cpu\"\n",
        "lr = 3e-4\n",
        "z_dim = 64\n",
        "image_dim = 28 * 28 * 1  # 784\n",
        "batch_size = 32\n",
        "num_epochs = 50\n",
        "\n",
        "disc = Discriminator(image_dim).to(device)\n",
        "gen = Generator(z_dim, image_dim).to(device)\n",
        "fixed_noise = torch.randn((batch_size, z_dim)).to(device)\n",
        "transforms = transforms.Compose(\n",
        "    [\n",
        "        transforms.ToTensor(),\n",
        "        transforms.Normalize((0.5,), (0.5,)),\n",
        "    ]\n",
        ")\n",
        "\n",
        "dataset = datasets.MNIST(root=\"dataset/\", transform=transforms, download=True)\n",
        "loader = DataLoader(dataset, batch_size=batch_size, shuffle=True)\n",
        "opt_disc = optim.Adam(disc.parameters(), lr=lr)\n",
        "opt_gen = optim.Adam(gen.parameters(), lr=lr)\n",
        "criterion = nn.BCELoss()\n",
        "writer_fake = SummaryWriter(f\"logs/fake\")\n",
        "writer_real = SummaryWriter(f\"logs/real\")\n",
        "step = 0\n",
        "\n",
        "for epoch in range(num_epochs):\n",
        "    for batch_idx, (real, _) in enumerate(loader):\n",
        "        real = real.view(-1, 784).to(device)\n",
        "        batch_size = real.shape[0]\n",
        "\n",
        "        ### Train Discriminator: max log(D(x)) + log(1 - D(G(z)))\n",
        "        noise = torch.randn(batch_size, z_dim).to(device)\n",
        "        fake = gen(noise)\n",
        "        disc_real = disc(real).view(-1)\n",
        "        lossD_real = criterion(disc_real, torch.ones_like(disc_real))\n",
        "        disc_fake = disc(fake).view(-1)\n",
        "        lossD_fake = criterion(disc_fake, torch.zeros_like(disc_fake))\n",
        "        lossD = (lossD_real + lossD_fake) / 2\n",
        "        disc.zero_grad()\n",
        "        lossD.backward(retain_graph=True)\n",
        "        opt_disc.step()\n",
        "\n",
        "        ### Train Generator: min log(1 - D(G(z))) <-> max log(D(G(z))\n",
        "        # where the second option of maximizing doesn't suffer from\n",
        "        # saturating gradients\n",
        "        output = disc(fake).view(-1)\n",
        "        lossG = criterion(output, torch.ones_like(output))\n",
        "        gen.zero_grad()\n",
        "        lossG.backward()\n",
        "        opt_gen.step()\n",
        "\n",
        "        if batch_idx == 0:\n",
        "            print(\n",
        "                f\"Epoch [{epoch}/{num_epochs}] Batch {batch_idx}/{len(loader)} \\\n",
        "                      Loss D: {lossD:.4f}, loss G: {lossG:.4f}\"\n",
        "            )\n",
        "\n",
        "            with torch.no_grad():\n",
        "                fake = gen(fixed_noise).reshape(-1, 1, 28, 28)\n",
        "                data = real.reshape(-1, 1, 28, 28)\n",
        "                img_grid_fake = torchvision.utils.make_grid(fake, normalize=True)\n",
        "                img_grid_real = torchvision.utils.make_grid(data, normalize=True)\n",
        "\n",
        "                writer_fake.add_image(\n",
        "                    \"Mnist Fake Images\", img_grid_fake, global_step=step\n",
        "                )\n",
        "                writer_real.add_image(\n",
        "                    \"Mnist Real Images\", img_grid_real, global_step=step\n",
        "                )\n",
        "                step += 1\n"
      ]
    },
    {
      "cell_type": "code",
      "source": [],
      "metadata": {
        "id": "4D3WyaB5imtn"
      },
      "execution_count": null,
      "outputs": []
    }
  ]
}